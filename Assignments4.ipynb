{
 "cells": [
  {
   "cell_type": "markdown",
   "metadata": {},
   "source": [
    "# Assignment 4"
   ]
  },
  {
   "cell_type": "markdown",
   "metadata": {},
   "source": [
    "1.1 \n",
    "\n",
    "Write a Python Program(with class concepts) to find the area of the triangle using the below\n",
    "formula.\n",
    "\n",
    "area = (s*(s-a)*(s-b)*(s-c)) ** 0.5\n",
    "\n",
    "Function to take the length of the sides of triangle from user should be defined in the parent\n",
    "class and function to calculate the area should be defined in subclass."
   ]
  },
  {
   "cell_type": "code",
   "execution_count": 47,
   "metadata": {},
   "outputs": [],
   "source": [
    "class Triangle:                   # Class Triangle \n",
    "    def __init__(self, a, b, c):  #Contructor to intialize the vairable in runtime , Self = Pointer\n",
    "        self.a = a\n",
    "        self.b = b                #passing all the Sides through the Class\n",
    "        self.c = c\n",
    "    \n",
    "    def __str__(self):            #Printing the Sides that have been entered\n",
    "        return \"The Sides of the Triangles are  %d cm, %d cm, %d cm.\" % (self.a, self.b, self.c)"
   ]
  },
  {
   "cell_type": "code",
   "execution_count": 48,
   "metadata": {},
   "outputs": [],
   "source": [
    "class Area1(Triangle):          #subclass to find the Area of the Triangle \n",
    "    def __init__(self, *args):\n",
    "        super(Area1,self).__init__(*args)   # Calling the Variables of the Parent Class Traingle\n",
    "        \n",
    "        s = (self.a+self.b+self.c) / 2                   #Calculating the semi-peri =(a+b+c)/2\n",
    "        area=(s*(s-self.a)*(s-self.b)*(s-self.c))**0.5   #calculating the area\n",
    "        \n",
    "        print(\"The Area of the Triangle : %d cm3\" %area)        #Printing the Area of the Triangle\n",
    "        \n",
    "    def __str__(self):\n",
    "        return super(Area1,self).__str__()"
   ]
  },
  {
   "cell_type": "code",
   "execution_count": 49,
   "metadata": {},
   "outputs": [
    {
     "name": "stdout",
     "output_type": "stream",
     "text": [
      "Enter the 1st Side of the Traingle in cm: 10\n",
      "Enter the 2nd Side of the Traingle in cm: 10\n",
      "Enter the 3rd Side of the Traingle in cm: 10\n",
      "The Area of the Triangle : 43 cm3\n",
      "The Sides of the Triangles are  10 cm, 10 cm, 10 cm.\n"
     ]
    }
   ],
   "source": [
    "#User Input for the sides\n",
    "a=int(input(\"Enter the 1st Side of the Traingle in cm: \"))\n",
    "b=int(input(\"Enter the 2nd Side of the Traingle in cm: \"))\n",
    "c=int(input(\"Enter the 3rd Side of the Traingle in cm: \"))\n",
    "\n",
    "\n",
    "AreaT = Area1(a,b,c)      #Passing the Sides of the Triangle\n",
    "print(AreaT)"
   ]
  },
  {
   "cell_type": "code",
   "execution_count": null,
   "metadata": {},
   "outputs": [],
   "source": []
  },
  {
   "cell_type": "code",
   "execution_count": null,
   "metadata": {},
   "outputs": [],
   "source": []
  },
  {
   "cell_type": "markdown",
   "metadata": {},
   "source": [
    "1.2 \n",
    "\n",
    "Write a function filter_long_words() that takes a list of words and an integer n and returns\n",
    "the list of words that are longer than n."
   ]
  },
  {
   "cell_type": "code",
   "execution_count": 50,
   "metadata": {},
   "outputs": [
    {
     "name": "stdout",
     "output_type": "stream",
     "text": [
      "Please Enter List of word in a sequence : Python is a Programming language\n",
      "Please Enter Length Int Req. for the Words : 4\n",
      "The Words have greater length than 4 :  'Python', 'Programming', 'language'\n"
     ]
    }
   ],
   "source": [
    "def fitler_long_words(wrds_list,n):   # Function to print the Words greater than Input Length\n",
    "    \n",
    "    lng_wrd = []   # List that will store the words \n",
    "    \n",
    "    for wrd in wrds_list:   # Iterating the list of words\n",
    "        \n",
    "        if len(wrd) > n:    #Checking the length of the word \n",
    "            lng_wrd.append(wrd)   # Adding the words in the List \n",
    "\n",
    "    print(\"The Words have greater length than %d : \"%n,str(lng_wrd)[1:-1] )\n",
    "    \n",
    "\n",
    "#Taking Inputs of the words and the Length Required \n",
    "Sentence = input(\"Please Enter List of word in a sequence : \")\n",
    "max_len = int(input(\"Please Enter Length Int Req. for the Words : \"))\n",
    "\n",
    "#Spilting the Sentence into a List \n",
    "wrds_list = Sentence.split()\n",
    "\n",
    "# Calling the function with the Parameters\n",
    "fitler_long_words(wrds_list,max_len)"
   ]
  },
  {
   "cell_type": "code",
   "execution_count": null,
   "metadata": {},
   "outputs": [],
   "source": []
  },
  {
   "cell_type": "code",
   "execution_count": null,
   "metadata": {},
   "outputs": [],
   "source": []
  },
  {
   "cell_type": "markdown",
   "metadata": {},
   "source": [
    "2.1 \n",
    "\n",
    "Write a Python program using function concept that maps list of words into a list of integers\n",
    "representing the lengths of the corresponding words.\n",
    "\n",
    "Hint: If a list [ ab,cde,erty] is passed on to the python function output should come as [2,3,4]\n",
    "\n",
    "Here 2,3 and 4 are the lengths of the words in the list."
   ]
  },
  {
   "cell_type": "code",
   "execution_count": 52,
   "metadata": {},
   "outputs": [
    {
     "name": "stdout",
     "output_type": "stream",
     "text": [
      "Please Enter words in a sequence seperated by space: Ireland Spain India USA\n",
      "The Listed words :  ['Ireland', 'Spain', 'India', 'USA']\n",
      "The Length of Each Word in A list Form : [7, 5, 5, 3]\n"
     ]
    }
   ],
   "source": [
    "def Length_word(list1):        #Function To Find the Length of Each Words and print in a List\n",
    "    print(\"The Listed words : \",list1)     #Printing the List of Words\n",
    "    len_of_wrd = []                        #List that will contain the Length of the words\n",
    "    \n",
    "    for i in list1:                        #Loop for iterating through the List\n",
    "        len_of_wrd.append(len(i))\n",
    "        \n",
    "    print(\"The Length of Each Word in A list Form :\",len_of_wrd)   #Printing the Length of Each Word in List form\n",
    "\n",
    "    \n",
    "    \n",
    "#Taking Inputs of the words and the Length Required \n",
    "Sentence = input(\"Please Enter words in a sequence seperated by space: \")\n",
    "\n",
    "#Spilting the Sentence into a List \n",
    "wrds_list = Sentence.split()\n",
    "\n",
    "# Calling the function with the Parameter\n",
    "Length_word(wrds_list)"
   ]
  },
  {
   "cell_type": "code",
   "execution_count": null,
   "metadata": {},
   "outputs": [],
   "source": []
  },
  {
   "cell_type": "markdown",
   "metadata": {},
   "source": [
    "2.2 \n",
    "\n",
    "Write a Python function which takes a character (i.e. a string of length 1) and returns True if\n",
    "it is a vowel, False otherwise."
   ]
  },
  {
   "cell_type": "code",
   "execution_count": 53,
   "metadata": {},
   "outputs": [
    {
     "name": "stdout",
     "output_type": "stream",
     "text": [
      "Please Enter a Single Charater : I\n",
      "The Character 'I' is a Vowel :  True\n"
     ]
    }
   ],
   "source": [
    "def Vowel(str1):       #Function to check a charater is Vowel or not\n",
    "    str1=str1.lower()  #converting the Character to lower case is it is in a Upper case\n",
    "    \n",
    "    if len(str1) > 1:  #Checking if it is single charater or not\n",
    "        return \"Not a Single charater\"\n",
    "    elif str1 in (\"a\",\"e\",\"i\",\"o\",\"u\"):   #Checking if the charater is Vowel or not \n",
    "        return True\n",
    "    return False\n",
    "\n",
    "#Taking Inputs of the words and the Length Required \n",
    "char = input(\"Please Enter a Single Charater : \")\n",
    "\n",
    "# Calling the function with the Parameters\n",
    "\n",
    "print(\"The Character '%s' is a Vowel : \"%char,Vowel(char))"
   ]
  },
  {
   "cell_type": "code",
   "execution_count": null,
   "metadata": {},
   "outputs": [],
   "source": []
  }
 ],
 "metadata": {
  "kernelspec": {
   "display_name": "Python 3",
   "language": "python",
   "name": "python3"
  },
  "language_info": {
   "codemirror_mode": {
    "name": "ipython",
    "version": 3
   },
   "file_extension": ".py",
   "mimetype": "text/x-python",
   "name": "python",
   "nbconvert_exporter": "python",
   "pygments_lexer": "ipython3",
   "version": "3.7.4"
  }
 },
 "nbformat": 4,
 "nbformat_minor": 2
}
